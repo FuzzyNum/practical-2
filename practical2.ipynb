{
 "cells": [
  {
   "cell_type": "code",
   "execution_count": 63,
   "metadata": {},
   "outputs": [],
   "source": [
    "import torch\n",
    "import numpy as np\n",
    "import random\n",
    "from torch.utils.data import DataLoader\n",
    "import os\n",
    "import urllib\n",
    "import zipfile\n",
    "import lxml.etree\n",
    "import re\n",
    "from collections import Counter"
   ]
  },
  {
   "cell_type": "code",
   "execution_count": 64,
   "metadata": {},
   "outputs": [],
   "source": [
    "if not os.path.isfile('ted_en-20160408.xml'):\n",
    "    urllib.request.urlretrieve(\"https://github.com/oxford-cs-deepnlp-2017/practical-1/blob/master/ted_en-20160408.xml?raw=true\", filename=\"ted_en-20160408.xml\")"
   ]
  },
  {
   "cell_type": "code",
   "execution_count": 65,
   "metadata": {},
   "outputs": [
    {
     "data": {
      "text/plain": [
       "2085"
      ]
     },
     "execution_count": 65,
     "metadata": {},
     "output_type": "execute_result"
    }
   ],
   "source": [
    "doc = lxml.etree.parse('ted_en-20160408.xml')\n",
    "input_text = doc.xpath('//content/text()')\n",
    "label = doc.xpath('//head/keywords/text()')\n",
    "del doc\n",
    "len(input_text)"
   ]
  },
  {
   "cell_type": "code",
   "execution_count": 66,
   "metadata": {},
   "outputs": [],
   "source": [
    "# Preprocess sentences to exclude all characters except alphabets and numbers\n",
    "texts = [re.sub(r'\\([^)]*\\)', '',text) for text in input_text]\n",
    "texts = [re.sub('r([^a-zA-Z0-9\\s])',' ',text) for text in texts] #Included '.'\n",
    "texts = [re.sub('[^a-zA-Z0-9\\']',' ',text) for text in texts] #To replace '.' with ' '\n",
    "texts = [re.sub('[^a-zA-Z0-9 ]','',text) for text in texts]\n",
    "texts = [text.lower() for text in texts] #uppercase->lowercase"
   ]
  },
  {
   "cell_type": "code",
   "execution_count": 67,
   "metadata": {},
   "outputs": [
    {
     "data": {
      "text/plain": [
       "'   thank you   thank you very much  like the speaker before me    i am a ted virgin  i guess  im also the first time here  and      i dont know what to say   im'"
      ]
     },
     "execution_count": 67,
     "metadata": {},
     "output_type": "execute_result"
    }
   ],
   "source": [
    "texts[2069][:160]"
   ]
  },
  {
   "cell_type": "code",
   "execution_count": 68,
   "metadata": {},
   "outputs": [
    {
     "name": "stdout",
     "output_type": "stream",
     "text": [
      "number of text greater than 500 words are: 2076\n"
     ]
    }
   ],
   "source": [
    "text_labels = zip(texts,label)\n",
    "texts = [text_label for text_label in text_labels if len(text_label[0]) > 500]\n",
    "print('number of text greater than 500 words are:',len(texts))"
   ]
  },
  {
   "cell_type": "code",
   "execution_count": 69,
   "metadata": {},
   "outputs": [],
   "source": [
    "texts,labels = zip(*texts)"
   ]
  },
  {
   "cell_type": "code",
   "execution_count": 70,
   "metadata": {},
   "outputs": [
    {
     "data": {
      "text/plain": [
       "'here are two reasons companies fail  they only do more of the same  or they only do whats new  to me the real  real solution to quality growth is figuring out the balance between two activities  exploration and exploitation  both are necessary  but it can be too much of a good thing  consider facit  im actually old enough to remember them  facit was a fantastic company  they were born deep in the swedish forest  and they made the best mechanical calculators in the world  everybody used them  and what did facit do when the electronic calculator came along  they continued doing exactly the same  in six months  they went from maximum revenue     and they were gone  gone  to me  the irony about the facit story is hearing about the facit engineers  who had bought cheap  small electronic calculators in japan that they used to double check their calculators   facit did too much exploitation  but exploration can go wild  too  a few years back  i worked closely alongside a european biotech company  lets call them oncosearch  the company was brilliant  they had applications that promised to diagnose  even cure  certain forms of blood cance  every day was about creating something new  they were extremely innovative  and the mantra was   when we only get it right   or even   we want it perfect   the sad thing is  before they became perfect    even good enough    they became obsolete  oncosearch did too much exploration  i first heard about exploration and exploitation about 15 years ago  when i worked as a visiting scholar at stanford university  the founder of the idea is jim march  and to me the power of the idea is its practicality  exploration  exploration is about coming up with whats new  its about search  its about discovery  its about new products  its about new innovations  its about changing our frontiers  our heroes are people who have done exploration  madame curie  picasso  neil armstrong  sir edmund hillary  etc  i come from norway  all our heroes are explorers  and they deserve to be  we all know that exploration is risky  we dont know the answers  we dont know if were going to find them  and we know that the risks are high  exploitation is the opposite  exploitation is taking the knowledge we have and making good  bette  exploitation is about making our trains run on time  its about making good products faster and cheape  exploitation is not risky    in the short term  but if we only exploit  its very risky in the long term  and i think we all have memories of the famous pop groups who keep singing the same songs again and again  until they become obsolete or even pathetic  thats the risk of exploitation  so if we take a long term perspective  we explore  if we take a short term perspective  we exploit  small children  they explore all day  all day its about exploration  as we grow olde  we explore less because we have more knowledge to exploit on  the same goes for companies  companies become  by nature  less innovative as they become more competent  and this is  of course  a big worry to ceos  and i hear very often questions phrased in different ways  for example   how can i both effectively run and reinvent my company   o   how can i make sure that our company changes before we become obsolete or are hit by a crisis   so  doing one well is difficult  doing both well as the same time is art    pushing both exploration and exploitation  so one thing weve found is only about two percent of companies are able to effectively explore and exploit at the same time  in parallel  but when they do  the payoffs are huge  so we have lots of great examples  we have nestl  creating nespresso  we have lego going into animated films  toyota creating the hybrids  unilever pushing into sustainability    there are lots of examples  and the benefits are huge  why is balancing so difficult  i think its difficult because there are so many traps that keep us where we are  so ill talk about two  but there are many  so lets talk about the perpetual search trap  we discover something  but we dont have the patience or the persistence to get at it and make it work  so instead of staying with it  we create something new  but the same goes for that  then were in the vicious circle of actually coming up with ideas but being frustrated  oncosearch was a good example  a famous example is  of course  xerox  but we dont only see this in companies  we see this in the public sector as well  we all know that any kind of effective reform of education  research  health care  even defense  takes 10  15  maybe 20 years to work  but still  we change much more often  we really dont give them the chance  another trap is the success trap  facit fell into the success trap  they literally held the future in their hands  but they couldnt see it  they were simply so good at making what they loved doing  that they wouldnt change  we are like that  too  when we know something well  its difficult to change  bill gates has said   success is a lousy teache  it seduces us into thinking we cannot fail   thats the challenge with success  so i think there are some lessons  and i think they apply to us  and they apply to our companies  the first lesson is  get ahead of the crisis  and any company thats able to innovate is actually able to also buy an insurance in the future  netflix    they could so easily have been content with earlier generations of distribution  but they always    and i think they will always    keep pushing for the next battle  i see other companies that say   ill win the next innovation cycle  whatever it takes   second one  think in multiple time scales  ill share a chart with you  and i think its a wonderful one  any company we look at  taking a one year perspective and looking at the valuation of the company  innovation typically accounts for only about 30 percent  so when we think one yea  innovation isnt really that important  move ahead  take a 10 year perspective on the same company    suddenly  innovation and ability to renew account for 70 percent  but companies cant choose  they need to fund the journey and lead the long term  third  invite talent  i dont think its possible for any of us to be able to balance exploration and exploitation by ourselves  i think its a team sport  i think we need to allow challenging  i think the mark of a great company is being open to be challenged  and the mark of a good corporate board is to constructively challenge  i think thats also what good parenting is about  last one  be skeptical of success  maybe its useful to think back at the old triumph marches in rome  when the generals  after a big victory  were given their celebration  riding into rome on the carriage  they always had a companion whispering in their ea   remembe  youre only human   so i hope i made the point  balancing exploration and exploitation has a huge payoff  but its difficult  and we need to be conscious  i want to just point out two questions that i think are useful  first question is  looking at your own company  in which areas do you see that the company is at the risk of falling into success traps  of just going on autopilot  and what can you do to challenge  second question is  when did i explore something new last  and what kind of effect did it have on me  is that something i should do more of  in my case  yes  so let me leave you with this  whether youre an explorer by nature or whether you tend to exploit what you already know  dont forget  the beauty is in the balance  thank you  '"
      ]
     },
     "execution_count": 70,
     "metadata": {},
     "output_type": "execute_result"
    }
   ],
   "source": [
    "texts[0]"
   ]
  },
  {
   "cell_type": "code",
   "execution_count": 71,
   "metadata": {},
   "outputs": [],
   "source": [
    "words = [words for text in texts for words in text.split()]\n",
    "words_count = Counter(words)\n",
    "words_most_common =[word for word,count in words_count.most_common(100)]\n",
    "words_least_common = [word for word,count in words_count.most_common() if count==1]"
   ]
  },
  {
   "cell_type": "code",
   "execution_count": 72,
   "metadata": {},
   "outputs": [
    {
     "name": "stdout",
     "output_type": "stream",
     "text": [
      "size of Token: 1948385\n"
     ]
    }
   ],
   "source": [
    "to_remove = words_most_common + words_least_common\n",
    "words_to_remove = set(to_remove)\n",
    "tokens = [word for word in words if word not in words_to_remove] #will be used during T-SNE\n",
    "print('size of Token:',len(tokens)) "
   ]
  },
  {
   "cell_type": "code",
   "execution_count": 73,
   "metadata": {},
   "outputs": [],
   "source": [
    "texts = [[word for word in text.split() if word not in words_to_remove]for text in texts]"
   ]
  },
  {
   "cell_type": "code",
   "execution_count": 76,
   "metadata": {},
   "outputs": [],
   "source": [
    "# Encode labels as ['ooo', 'Too', 'oEo', 'ooD', 'TEo', 'ToD', 'oED', 'TED']\n",
    "label_coded = ['ooo']*len(labels)\n",
    "for i,keyword in enumerate(labels):\n",
    "    key = keyword.split(', ')\n",
    "    label = list(label_coded[i])\n",
    "    if 'technology' in key:\n",
    "        label[0] = 'T'\n",
    "    if 'entertainment' in key:\n",
    "        label[1] = 'E'\n",
    "    if 'design' in key:\n",
    "        label[2] = 'D'\n",
    "    else:\n",
    "        pass\n",
    "    label_coded[i] =''.join(label) "
   ]
  },
  {
   "cell_type": "code",
   "execution_count": 77,
   "metadata": {},
   "outputs": [
    {
     "data": {
      "text/plain": [
       "[('ooo', 1130),\n",
       " ('Too', 389),\n",
       " ('oEo', 169),\n",
       " ('ooD', 158),\n",
       " ('ToD', 137),\n",
       " ('TEo', 36),\n",
       " ('TED', 33),\n",
       " ('oED', 24)]"
      ]
     },
     "execution_count": 77,
     "metadata": {},
     "output_type": "execute_result"
    }
   ],
   "source": [
    "count_labels=Counter(label_coded)\n",
    "label_count = [word_count for word_count in count_labels.most_common()]\n",
    "label_count"
   ]
  },
  {
   "cell_type": "code",
   "execution_count": 78,
   "metadata": {},
   "outputs": [],
   "source": [
    "ohe = np.zeros(shape=(len(labels),8),dtype='int16')\n",
    "label_lookup = ['ooo', 'Too', 'oEo', 'ooD', 'TEo', 'ToD', 'oED', 'TED']"
   ]
  },
  {
   "cell_type": "code",
   "execution_count": 56,
   "metadata": {},
   "outputs": [],
   "source": [
    "# Stripping Text to fall within length of 500; incase if it is shorter then padd with '<UNK>'\n",
    "length = 500 #sentence length\n",
    "stripped_text = []#np.zeros((len(texts),length)\n",
    "for i,text in enumerate(texts):\n",
    "    inputs = []\n",
    "    if len(text) >= 500:\n",
    "        inputs.extend(text[:500])\n",
    "    else:\n",
    "        extra_length = 500-len(text)\n",
    "        extra = ['<PAD>']*extra_length\n",
    "        word_with_extra = text + extra\n",
    "        inputs.extend(word_with_extra)\n",
    "    stripped_text.append(inputs) "
   ]
  },
  {
   "cell_type": "code",
   "execution_count": 57,
   "metadata": {},
   "outputs": [],
   "source": [
    "stripped_length = len(stripped_text)"
   ]
  },
  {
   "cell_type": "code",
   "execution_count": 58,
   "metadata": {},
   "outputs": [],
   "source": [
    "for i,code in enumerate(label_coded):\n",
    "    one_hotted[i][label_lookup.index(code)] = 1"
   ]
  },
  {
   "cell_type": "code",
   "execution_count": 59,
   "metadata": {},
   "outputs": [],
   "source": [
    "import os\n",
    "import torch\n",
    "from torch import nn\n",
    "from torch.utils.data import DataLoader\n",
    "import torch.optim as optim\n",
    "from torchvision import datasets, transforms"
   ]
  },
  {
   "cell_type": "code",
   "execution_count": 60,
   "metadata": {},
   "outputs": [
    {
     "name": "stdout",
     "output_type": "stream",
     "text": [
      "Using mps device\n"
     ]
    }
   ],
   "source": [
    "device = (\n",
    "    \"cuda\"\n",
    "    if torch.cuda.is_available()\n",
    "    else \"mps\"\n",
    "    if torch.backends.mps.is_available()\n",
    "    else \"cpu\"\n",
    ")\n",
    "print(f\"Using {device} device\")"
   ]
  },
  {
   "cell_type": "code",
   "execution_count": 61,
   "metadata": {},
   "outputs": [],
   "source": [
    "class TEDModel(nn.Module):\n",
    "    def __init__(self,vocab_size,embedding_dim=100):\n",
    "        super().__init__()\n",
    "        self.embedding = nn.Embedding(vocab_size,embedding_dim)\n",
    "        self.hidden_layer= nn.Sequential(\n",
    "            nn.Linear(embedding_dim, 32, bias=True),\n",
    "            nn.Tanh(),\n",
    "            nn.Linear(32,8,bias=True),\n",
    "            nn.Softmax(dim=8)\n",
    "        )\n",
    "\n",
    "\n",
    "    def forward(self, x):\n",
    "        x = self.embedding(x)\n",
    "        out = self.hidden_layer(x)\n",
    "\n"
   ]
  },
  {
   "cell_type": "code",
   "execution_count": 62,
   "metadata": {},
   "outputs": [
    {
     "ename": "ValueError",
     "evalue": "too many values to unpack (expected 2)",
     "output_type": "error",
     "traceback": [
      "\u001b[0;31m---------------------------------------------------------------------------\u001b[0m",
      "\u001b[0;31mValueError\u001b[0m                                Traceback (most recent call last)",
      "Cell \u001b[0;32mIn[62], line 8\u001b[0m\n\u001b[1;32m      6\u001b[0m \u001b[38;5;28;01mfor\u001b[39;00m epoch \u001b[38;5;129;01min\u001b[39;00m \u001b[38;5;28mrange\u001b[39m(\u001b[38;5;241m10\u001b[39m):\n\u001b[1;32m      7\u001b[0m     total_loss \u001b[38;5;241m=\u001b[39m \u001b[38;5;241m0\u001b[39m\n\u001b[0;32m----> 8\u001b[0m     \u001b[38;5;28;01mfor\u001b[39;00m context, target \u001b[38;5;129;01min\u001b[39;00m stripped_text:\n\u001b[1;32m      9\u001b[0m \n\u001b[1;32m     10\u001b[0m         \u001b[38;5;66;03m# Step 1. Prepare the inputs to be passed to the model (i.e, turn the words\u001b[39;00m\n\u001b[1;32m     11\u001b[0m         \u001b[38;5;66;03m# into integer indices and wrap them in tensors)\u001b[39;00m\n\u001b[1;32m     12\u001b[0m         context_idxs \u001b[38;5;241m=\u001b[39m torch\u001b[38;5;241m.\u001b[39mtensor([word_to_ix[w] \u001b[38;5;28;01mfor\u001b[39;00m w \u001b[38;5;129;01min\u001b[39;00m context], dtype\u001b[38;5;241m=\u001b[39mtorch\u001b[38;5;241m.\u001b[39mlong)\n\u001b[1;32m     14\u001b[0m         \u001b[38;5;66;03m# Step 2. Recall that torch *accumulates* gradients. Before passing in a\u001b[39;00m\n\u001b[1;32m     15\u001b[0m         \u001b[38;5;66;03m# new instance, you need to zero out the gradients from the old\u001b[39;00m\n\u001b[1;32m     16\u001b[0m         \u001b[38;5;66;03m# instance\u001b[39;00m\n",
      "\u001b[0;31mValueError\u001b[0m: too many values to unpack (expected 2)"
     ]
    }
   ],
   "source": [
    "losses = []\n",
    "loss_function = nn.NLLLoss()\n",
    "model = TEDModel(len(stripped_text))\n",
    "optimizer = optim.SGD(model.parameters(), lr=0.001)\n",
    "\n",
    "for epoch in range(10):\n",
    "    total_loss = 0\n",
    "    for context, target in stripped_text:\n",
    "\n",
    "        # Step 1. Prepare the inputs to be passed to the model (i.e, turn the words\n",
    "        # into integer indices and wrap them in tensors)\n",
    "        context_idxs = torch.tensor([word_to_ix[w] for w in context], dtype=torch.long)\n",
    "\n",
    "        # Step 2. Recall that torch *accumulates* gradients. Before passing in a\n",
    "        # new instance, you need to zero out the gradients from the old\n",
    "        # instance\n",
    "        model.zero_grad()\n",
    "\n",
    "        # Step 3. Run the forward pass, getting log probabilities over next\n",
    "        # words\n",
    "        log_probs = model(context_idxs)\n",
    "\n",
    "        # Step 4. Compute your loss function. (Again, Torch wants the target\n",
    "        # word wrapped in a tensor)\n",
    "        loss = loss_function(log_probs, torch.tensor([word_to_ix[target]], dtype=torch.long))\n",
    "\n",
    "        # Step 5. Do the backward pass and update the gradient\n",
    "        loss.backward()\n",
    "        optimizer.step()\n",
    "\n",
    "        # Get the Python number from a 1-element Tensor by calling tensor.item()\n",
    "        total_loss += loss.item()\n",
    "    losses.append(total_loss)\n",
    "print(losses)  # The loss decreased every iteration over the training data!\n",
    "\n",
    "# To get the embedding of a particular word, e.g. \"beauty\"\n",
    "print(model.embeddings.weight[word_to_ix[\"beauty\"]])"
   ]
  }
 ],
 "metadata": {
  "kernelspec": {
   "display_name": "Python 3",
   "language": "python",
   "name": "python3"
  },
  "language_info": {
   "codemirror_mode": {
    "name": "ipython",
    "version": 3
   },
   "file_extension": ".py",
   "mimetype": "text/x-python",
   "name": "python",
   "nbconvert_exporter": "python",
   "pygments_lexer": "ipython3",
   "version": "3.11.9"
  }
 },
 "nbformat": 4,
 "nbformat_minor": 2
}
